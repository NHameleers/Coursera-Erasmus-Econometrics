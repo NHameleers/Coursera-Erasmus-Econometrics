{
 "cells": [
  {
   "cell_type": "markdown",
   "metadata": {},
   "source": [
    "# Erasmus econometrics: training exercise lecture M1"
   ]
  },
  {
   "cell_type": "code",
   "execution_count": 1,
   "metadata": {
    "collapsed": true
   },
   "outputs": [],
   "source": [
    "import numpy as np"
   ]
  },
  {
   "cell_type": "markdown",
   "metadata": {},
   "source": [
    "## Question 1"
   ]
  },
  {
   "cell_type": "markdown",
   "metadata": {},
   "source": [
    "<img src=\"question1.png\">"
   ]
  },
  {
   "cell_type": "code",
   "execution_count": 30,
   "metadata": {
    "collapsed": false
   },
   "outputs": [],
   "source": [
    "y = np.array([15.1, 7.9, 4.5, 12.8, 10.5])\n",
    "X = np.array([(1, 25.5, 1.23), (1, 40.8, 1.89), (1, 30.2, 1.55), (1, 4.3, 1.18), (1, 10.7, 1.68)])\n",
    "b1 = np.array([23, 0.1, -8])\n",
    "b2 = np.array([22, -0.2, -7])"
   ]
  },
  {
   "cell_type": "code",
   "execution_count": 31,
   "metadata": {
    "collapsed": false
   },
   "outputs": [
    {
     "data": {
      "text/plain": [
       "array([[ 23.  ,   2.55,  -9.84],\n",
       "       [ 23.  ,   4.08, -15.12],\n",
       "       [ 23.  ,   3.02, -12.4 ],\n",
       "       [ 23.  ,   0.43,  -9.44],\n",
       "       [ 23.  ,   1.07, -13.44]])"
      ]
     },
     "execution_count": 31,
     "metadata": {},
     "output_type": "execute_result"
    }
   ],
   "source": [
    "# Let's take some explorative steps\n",
    "b1 * X\n"
   ]
  },
  {
   "cell_type": "code",
   "execution_count": 32,
   "metadata": {
    "collapsed": false
   },
   "outputs": [
    {
     "data": {
      "text/plain": [
       "array([[ 23.  ,   2.55,  -9.84],\n",
       "       [ 23.  ,   4.08, -15.12],\n",
       "       [ 23.  ,   3.02, -12.4 ],\n",
       "       [ 23.  ,   0.43,  -9.44],\n",
       "       [ 23.  ,   1.07, -13.44]])"
      ]
     },
     "execution_count": 32,
     "metadata": {},
     "output_type": "execute_result"
    }
   ],
   "source": [
    "# this gives same as above\n",
    "np.multiply(X, b1)"
   ]
  },
  {
   "cell_type": "code",
   "execution_count": 33,
   "metadata": {
    "collapsed": false
   },
   "outputs": [
    {
     "data": {
      "text/plain": [
       "array([ 15.71,  11.96,  13.62,  13.99,  10.63])"
      ]
     },
     "execution_count": 33,
     "metadata": {},
     "output_type": "execute_result"
    }
   ],
   "source": [
    "# but that's not what we need, the products are not summed yet.\n",
    "Xb1 = np.dot(X, b1)\n",
    "Xb1"
   ]
  },
  {
   "cell_type": "code",
   "execution_count": 34,
   "metadata": {
    "collapsed": false
   },
   "outputs": [
    {
     "data": {
      "text/plain": [
       "array([-0.61, -4.06, -9.12, -1.19, -0.13])"
      ]
     },
     "execution_count": 34,
     "metadata": {},
     "output_type": "execute_result"
    }
   ],
   "source": [
    "# that was more like it. Since y = Xb + e, e must be y - Xb\n",
    "e1 = y - Xb1\n",
    "e1"
   ]
  },
  {
   "cell_type": "code",
   "execution_count": 35,
   "metadata": {
    "collapsed": false
   },
   "outputs": [
    {
     "data": {
      "text/plain": [
       "array([ 6.81,  7.29, -0.61, -0.08,  2.4 ])"
      ]
     },
     "execution_count": 35,
     "metadata": {},
     "output_type": "execute_result"
    }
   ],
   "source": [
    "# And the same can be done for b2\n",
    "e2 = y -np.dot(X, b2)\n",
    "e2"
   ]
  },
  {
   "cell_type": "markdown",
   "metadata": {},
   "source": [
    "## Question 2"
   ]
  },
  {
   "cell_type": "markdown",
   "metadata": {},
   "source": [
    "<img src=\"question2.png\">"
   ]
  },
  {
   "cell_type": "code",
   "execution_count": 46,
   "metadata": {
    "collapsed": false
   },
   "outputs": [
    {
     "name": "stdout",
     "output_type": "stream",
     "text": [
      "Sum of squares e1: 101.46309999999998\n",
      "Sum of squares e2: 105.6587\n",
      "Does e1 have the smallest unexplained part? True\n"
     ]
    }
   ],
   "source": [
    "ss_e1 = np.sum(e1 ** 2)\n",
    "ss_e2 = np.sum(e2 ** 2)\n",
    "print(\"Sum of squares e1: {}\".format(ss_e1))\n",
    "print(\"Sum of squares e2: {}\".format(ss_e2))\n",
    "print(\"Does e1 have the smallest unexplained part? {}\".format(ss_e1<ss_e2))"
   ]
  },
  {
   "cell_type": "markdown",
   "metadata": {},
   "source": [
    "## Question 3"
   ]
  },
  {
   "cell_type": "markdown",
   "metadata": {},
   "source": [
    "<img src=\"question3.png\">"
   ]
  },
  {
   "cell_type": "markdown",
   "metadata": {},
   "source": [
    "Step 1:\n",
    "$$ uA = \\sum_{k=1}^m u_{ik}A_{kj}$$\n",
    "\n",
    "Step 2:\n",
    "\n",
    "$$ uAv = \\sum_{k=1}^m uA_{ik}v_{kj}$$\n",
    "\n",
    "Dimension: 1 x 1"
   ]
  },
  {
   "cell_type": "markdown",
   "metadata": {},
   "source": [
    "The sigma notation above was not correct. Instead, it should be:\n",
    "\n",
    "$$ d = u \\ast A \\ast v = \\sum_{i=1}^p \\sum_{j=1}^q u_{i}A_{ij}v_{j}$$\n"
   ]
  },
  {
   "cell_type": "markdown",
   "metadata": {},
   "source": [
    "## Question 4"
   ]
  },
  {
   "cell_type": "markdown",
   "metadata": {},
   "source": [
    "<img src=\"question4.png\">"
   ]
  },
  {
   "cell_type": "markdown",
   "metadata": {},
   "source": [
    "<img src=\"answer4.png\">\n"
   ]
  },
  {
   "cell_type": "code",
   "execution_count": null,
   "metadata": {
    "collapsed": true
   },
   "outputs": [],
   "source": []
  }
 ],
 "metadata": {
  "kernelspec": {
   "display_name": "Python [Root]",
   "language": "python",
   "name": "Python [Root]"
  },
  "language_info": {
   "codemirror_mode": {
    "name": "ipython",
    "version": 3
   },
   "file_extension": ".py",
   "mimetype": "text/x-python",
   "name": "python",
   "nbconvert_exporter": "python",
   "pygments_lexer": "ipython3",
   "version": "3.5.2"
  }
 },
 "nbformat": 4,
 "nbformat_minor": 0
}
